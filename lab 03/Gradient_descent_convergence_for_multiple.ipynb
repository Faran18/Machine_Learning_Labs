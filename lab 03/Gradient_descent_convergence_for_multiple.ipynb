{
  "nbformat": 4,
  "nbformat_minor": 0,
  "metadata": {
    "colab": {
      "provenance": []
    },
    "kernelspec": {
      "name": "python3",
      "display_name": "Python 3"
    },
    "language_info": {
      "name": "python"
    }
  },
  "cells": [
    {
      "cell_type": "code",
      "execution_count": 1,
      "metadata": {
        "id": "YMtbWA8Rs1tU"
      },
      "outputs": [],
      "source": [
        "import numpy as np\n",
        "import pandas as pd\n",
        "import matplotlib.pyplot as plt\n",
        "from sklearn.compose import ColumnTransformer\n",
        "from sklearn.model_selection import train_test_split\n",
        "from sklearn.preprocessing import PolynomialFeatures\n",
        "from sklearn.linear_model import LinearRegression\n",
        "from sklearn import metrics"
      ]
    },
    {
      "cell_type": "code",
      "source": [
        "dataset = pd.read_csv('/content/cars.csv')\n",
        "\n",
        "dataset = dataset.drop('car_names', axis=1)\n",
        "\n",
        "X = dataset.drop('miles_per_gallon', axis=1)\n",
        "y = dataset['miles_per_gallon']"
      ],
      "metadata": {
        "id": "DS7VoecrtG7P"
      },
      "execution_count": 2,
      "outputs": []
    },
    {
      "cell_type": "code",
      "source": [
        "X = (X - np.mean(X, axis=0)) / np.std(X, axis=0)"
      ],
      "metadata": {
        "id": "w4vb3GVgwc3P"
      },
      "execution_count": 4,
      "outputs": []
    },
    {
      "cell_type": "code",
      "source": [
        "X_train, X_test, y_train, y_test = train_test_split(X,y,test_size = 0.4, random_state = 42)\n",
        "X_train.shape\n",
        ""
      ],
      "metadata": {
        "colab": {
          "base_uri": "https://localhost:8080/"
        },
        "id": "toxnS289tTKy",
        "outputId": "8a8fe924-55f9-4403-fe23-913f5ca686b3"
      },
      "execution_count": 5,
      "outputs": [
        {
          "output_type": "execute_result",
          "data": {
            "text/plain": [
              "(19, 10)"
            ]
          },
          "metadata": {},
          "execution_count": 5
        }
      ]
    },
    {
      "cell_type": "code",
      "source": [
        "X_train, X_test, y_train, y_test = train_test_split(X, y, test_size=0.2, random_state=42)"
      ],
      "metadata": {
        "id": "6EUuvw-AvpMh"
      },
      "execution_count": 6,
      "outputs": []
    },
    {
      "cell_type": "code",
      "source": [
        "def compute_cost(X, y, theta):\n",
        "    m = len(y)\n",
        "    predictions = X.dot(theta)\n",
        "    cost = (1 / (2 * m)) * np.sum((predictions - y) ** 2)\n",
        "    return cost"
      ],
      "metadata": {
        "id": "_xZaN09-wiKm"
      },
      "execution_count": 7,
      "outputs": []
    },
    {
      "cell_type": "code",
      "source": [
        "def gradient_descent(X, y, theta, learning_rate, iterations):\n",
        "    m = len(y)\n",
        "    cost_history = []\n",
        "    for i in range(iterations):\n",
        "        gradients = (1 / m) * X.T.dot(X.dot(theta) - y)\n",
        "        theta -= learning_rate * gradients\n",
        "        cost_history.append(compute_cost(X, y, theta))\n",
        "\n",
        "    return theta, cost_history\n"
      ],
      "metadata": {
        "id": "g4XSDmhOwl_S"
      },
      "execution_count": 14,
      "outputs": []
    },
    {
      "cell_type": "code",
      "source": [
        "X_train_b = np.c_[np.ones((X_train.shape[0], 1)), X_train]\n",
        "X_test_b = np.c_[np.ones((X_test.shape[0], 1)), X_test]"
      ],
      "metadata": {
        "id": "sQlHk-Tnw1yS"
      },
      "execution_count": 15,
      "outputs": []
    },
    {
      "cell_type": "code",
      "source": [
        "theta = np.zeros(X_train_b.shape[1])\n",
        "learning_rate = 0.01\n",
        "iterations = 1000\n",
        "theta, cost_history = gradient_descent(X_train_b, y_train, theta, learning_rate, iterations)"
      ],
      "metadata": {
        "id": "F1FZY7IsxDes"
      },
      "execution_count": 16,
      "outputs": []
    },
    {
      "cell_type": "code",
      "source": [
        "plt.figure(figsize=(8,6))\n",
        "plt.plot(range(iterations), cost_history, color='blue', linewidth=2)\n",
        "plt.xlabel('Iterations')\n",
        "plt.ylabel('Cost')\n",
        "plt.title('Gradient Descent Convergence')\n",
        "plt.grid()\n",
        "plt.show()\n"
      ],
      "metadata": {
        "colab": {
          "base_uri": "https://localhost:8080/",
          "height": 564
        },
        "id": "QYcfxsKYxMvv",
        "outputId": "c8392876-f7a6-4516-a22e-0d42e9b77afe"
      },
      "execution_count": 17,
      "outputs": [
        {
          "output_type": "display_data",
          "data": {
            "text/plain": [
              "<Figure size 800x600 with 1 Axes>"
            ],
            "image/png": "[encoded data removed]"
          },
          "metadata": {}
        }
      ]
    },
    {
      "cell_type": "code",
      "source": [],
      "metadata": {
        "id": "vMnxwIuUxyoW"
      },
      "execution_count": null,
      "outputs": []
    }
  ]
}